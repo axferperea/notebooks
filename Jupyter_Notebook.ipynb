{
 "cells": [
  {
   "cell_type": "markdown",
   "metadata": {},
   "source": [
    "<center>\n",
    "    <img src=\"https://s3-api.us-geo.objectstorage.softlayer.net/cf-courses-data/CognitiveClass/Logos/organization_logo/organization_logo.png\" width=\"300\" alt=\"cognitiveclass.ai logo\"  />\n",
    "</center>\n"
   ]
  },
  {
   "cell_type": "markdown",
   "metadata": {},
   "source": [
    "# My Jupyter Notebook on IBM Watson Studio"
   ]
  },
  {
   "cell_type": "markdown",
   "metadata": {},
   "source": [
    "__Axel Fernando Perea Perdomo__ <br>\n",
    "I'm Control Engineer but i want to be a Data Scientist"
   ]
  },
  {
   "cell_type": "markdown",
   "metadata": {},
   "source": [
    "_I am interested in data science because I am passionate about programming and big data.<br> For this reason I want to change my career to do something that I am really passionate about, I like the idea of being able to tell interesting and helpful things from of a large data set._"
   ]
  },
  {
   "cell_type": "markdown",
   "metadata": {},
   "source": [
    "### The code in the next line is intended to return from a list whether its elements are even or odd."
   ]
  },
  {
   "cell_type": "code",
   "execution_count": 5,
   "metadata": {},
   "outputs": [
    {
     "name": "stdout",
     "output_type": "stream",
     "text": [
      "1 is an odd number\n",
      "2 is an even number\n",
      "3 is an odd number\n",
      "4 is an even number\n",
      "5 is an odd number\n",
      "6 is an even number\n",
      "7 is an odd number\n",
      "8 is an even number\n",
      "9 is an odd number\n",
      "10 is an even number\n"
     ]
    }
   ],
   "source": [
    "def parimp(list):\n",
    "    for i in list:\n",
    "        if i%2 == 0:\n",
    "            print(f\"{i} is an even number\")\n",
    "        elif (i%2 != 0):\n",
    "            print(f\"{i} is an odd number\")\n",
    "                  \n",
    "l = [1,2,3,4,5,6,7,8,9,10]\n",
    "parimp(l)"
   ]
  },
  {
   "cell_type": "markdown",
   "metadata": {},
   "source": [
    "1. Data management\n",
    "2. Data integration and transformation\n",
    "3. Data visualization\n",
    "4. Model building\n",
    "5. Model deployment\n",
    "6. Model monitoring and assessment\n",
    "<br>\n",
    "\n",
    "\n",
    "| No | Name | Age |\n",
    "| --- | --- | --- |\n",
    "| 1 | Axel | 29 |\n",
    "| 2 | Elon | 50 |\n",
    "| 3 | Zac | 32 |\n",
    "<br>\n",
    "\n",
    "__https://github.com/axferperea__\n"
   ]
  },
  {
   "cell_type": "code",
   "execution_count": null,
   "metadata": {},
   "outputs": [],
   "source": []
  }
 ],
 "metadata": {
  "kernelspec": {
   "display_name": "Python",
   "language": "python",
   "name": "conda-env-python-py"
  },
  "language_info": {
   "codemirror_mode": {
    "name": "ipython",
    "version": 3
   },
   "file_extension": ".py",
   "mimetype": "text/x-python",
   "name": "python",
   "nbconvert_exporter": "python",
   "pygments_lexer": "ipython3",
   "version": "3.7.12"
  }
 },
 "nbformat": 4,
 "nbformat_minor": 4
}
